{
  "nbformat": 4,
  "nbformat_minor": 0,
  "metadata": {
    "colab": {
      "provenance": [],
      "authorship_tag": "ABX9TyNjSk+ZvYo9xx8A0lA6HP8S",
      "include_colab_link": true
    },
    "kernelspec": {
      "name": "python3",
      "display_name": "Python 3"
    },
    "language_info": {
      "name": "python"
    }
  },
  "cells": [
    {
      "cell_type": "markdown",
      "metadata": {
        "id": "view-in-github",
        "colab_type": "text"
      },
      "source": [
        "<a href=\"https://colab.research.google.com/github/Farhanayousuf248/GIAIC-Q1_python-Agentic_AI-/blob/main/revision_all_classes.ipynb\" target=\"_parent\"><img src=\"https://colab.research.google.com/assets/colab-badge.svg\" alt=\"Open In Colab\"/></a>"
      ]
    },
    {
      "cell_type": "markdown",
      "source": [
        "# \"\"\" 1. Python Install\n",
        "#   2. CMD | python --version | python | print(\"Hello, World!\")\n",
        "# 3. VSCODE | Create Python Folder | VSCODE-File-Open Folder-Then Select New File\n",
        "  \n",
        "#   4. print(\"Hello, World!\")\n",
        "#   5. Folder | Upper Link | Clear Path | CMD\n",
        "#   6. Variable = To Store Data \"\"\""
      ],
      "metadata": {
        "id": "QsMDWlqAluJp"
      }
    },
    {
      "cell_type": "code",
      "source": [
        "name: str = \"Farhana yousuf\"\n",
        "age: int = 18\n",
        "isActive: bool = True\n",
        "print(name)\n",
        "print(age)\n",
        "print(isActive)\n",
        "\n",
        "# 7. Comment"
      ],
      "metadata": {
        "colab": {
          "base_uri": "https://localhost:8080/"
        },
        "id": "I7BKXE0hmKHa",
        "outputId": "777df61c-c8cc-4fb6-a0a2-5fdeb2644320"
      },
      "execution_count": null,
      "outputs": [
        {
          "output_type": "stream",
          "name": "stdout",
          "text": [
            "Farhana yousuf\n",
            "18\n",
            "True\n"
          ]
        }
      ]
    },
    {
      "cell_type": "markdown",
      "source": [
        "# 8. Operators:\n",
        "\n",
        "# || Arithmetic operators ||"
      ],
      "metadata": {
        "id": "ePYyiP7LmYGI"
      }
    },
    {
      "cell_type": "code",
      "source": [
        "x = 10\n",
        "y = 5\n",
        "print(x + y)     #Addition       : 15\n",
        "print(x - y)     #Subtraction    : 5\n",
        "print(x * y)     #Multiplication : 50\n",
        "print(x / y)     #Division       : 2.0\n",
        "print(x // y)    #Floor Division : 2 (Decimal ko hata deta hai/ divide me upr wala)\n",
        "print(x % y)     #Modulus        : 0 (remainder)\n",
        "print(x ** y)    #Exponentiation :  100000 (10^3 or 10*10*10)\n",
        "num1: int = 5\n",
        "num2: int = 5\n",
        "sum: int = num1 + num2\n",
        "print(sum)\n"
      ],
      "metadata": {
        "colab": {
          "base_uri": "https://localhost:8080/"
        },
        "id": "pwoPP71embQb",
        "outputId": "f326ba2a-c65c-4e43-f0cc-b21c6aa88ae1"
      },
      "execution_count": null,
      "outputs": [
        {
          "output_type": "stream",
          "name": "stdout",
          "text": [
            "15\n",
            "5\n",
            "50\n",
            "2.0\n",
            "2\n",
            "0\n",
            "100000\n",
            "10\n"
          ]
        }
      ]
    },
    {
      "cell_type": "markdown",
      "source": [
        "# || Asignment operators ||\n",
        "# Value ko assign krne k liye jo operator use hota (=)"
      ],
      "metadata": {
        "id": "4nAFKWIom2qy"
      }
    },
    {
      "cell_type": "code",
      "source": [
        "x: int = 10\n",
        "x = x + 8\n",
        "print(x)"
      ],
      "metadata": {
        "colab": {
          "base_uri": "https://localhost:8080/"
        },
        "id": "3S9hou6Jmhzz",
        "outputId": "2aa0b393-35ec-4964-adbc-c1989fb24eed"
      },
      "execution_count": null,
      "outputs": [
        {
          "output_type": "stream",
          "name": "stdout",
          "text": [
            "18\n"
          ]
        }
      ]
    },
    {
      "cell_type": "markdown",
      "source": [
        "\"\"\" || Comparison operators || True/False\n",
        "\n",
        "       == (equal to)\n",
        "       >  (greater than)\n",
        "       < (less than)\n",
        "       >= (greater than equal to)\n",
        "       <= (less than equal to)\n",
        "       != (not equal to)\n",
        "\"\"\""
      ],
      "metadata": {
        "id": "upEYqMA-nAR5"
      }
    },
    {
      "cell_type": "code",
      "source": [
        "num1: int = 10\n",
        "num2: int = 20\n",
        "print(num1 == num2)  #False\n",
        "print(num1 > num2)   #False\n",
        "print(num1 < num2)   #True\n",
        "print(num1 >= num2)  #False\n",
        "print(num1 <= num2)  #True\n",
        "print(num1 != num2)  #True"
      ],
      "metadata": {
        "colab": {
          "base_uri": "https://localhost:8080/"
        },
        "id": "OC93G8tlm8Eu",
        "outputId": "8a8fa598-b00c-4b60-8ba7-bb1b51ae2f84"
      },
      "execution_count": null,
      "outputs": [
        {
          "output_type": "stream",
          "name": "stdout",
          "text": [
            "False\n",
            "False\n",
            "True\n",
            "False\n",
            "True\n",
            "True\n"
          ]
        }
      ]
    },
    {
      "cell_type": "markdown",
      "source": [
        "# || Logical operators ||\n",
        "# and, or, not\n",
        "\n",
        "# condition (and)"
      ],
      "metadata": {
        "id": "GSOslLwVnfPj"
      }
    },
    {
      "cell_type": "code",
      "source": [
        "num1: int = 40\n",
        "num2: int = 11\n",
        "print(num1 > 10 and num1 < 30) #False\n",
        "# num1 is greater than 10 AND num1 is less than 30\n",
        "# (and) condition me puri condition thek honi chahiye\n",
        "\n",
        "\n",
        "# condition (or)\n",
        "num1: int = 40\n",
        "num2: int = 11\n",
        "print(num1 > 10 or num1 < 30) #True\n",
        "# (or) condition me koi ek thek honi chahiye\n",
        "\n",
        "#Ghar py 2 cheezen hain ek ups and ek k_electric\n",
        "k_electric = \"no k_electric\"\n",
        "ups = \"no ups\"\n",
        "print(k_electric == \"no k_electric\" or ups != \"no ups\")\n",
        "\n",
        "#condition (not)\n",
        "# condition true hogi to false hojaegi or agr false hogi to true hojaegi"
      ],
      "metadata": {
        "id": "KfE28c5fnhLM"
      },
      "execution_count": null,
      "outputs": []
    },
    {
      "cell_type": "markdown",
      "source": [
        "# || IF ELSE ||\n",
        "#   if - agr\n",
        "#   else - wrna\n",
        "\n",
        "#indentations - Double space sy if k bad wali line me jo bhi likhogy to if ki condition me aega\n"
      ],
      "metadata": {
        "id": "PCDW87qdnt5w"
      }
    },
    {
      "cell_type": "code",
      "source": [
        "num1: int = 2\n",
        "num2: int = 1\n",
        "if num1>1:\n",
        "    print(\"salam\")\n",
        "    fav_teacher=\"sir ameen\"\n",
        "    print(fav_teacher)"
      ],
      "metadata": {
        "colab": {
          "base_uri": "https://localhost:8080/"
        },
        "id": "ISPahr5xnwCY",
        "outputId": "7ee1cdb5-591b-462a-b41a-d351870a6bc7"
      },
      "execution_count": null,
      "outputs": [
        {
          "output_type": "stream",
          "name": "stdout",
          "text": [
            "salam\n",
            "sir ameen\n"
          ]
        }
      ]
    }
  ]
}