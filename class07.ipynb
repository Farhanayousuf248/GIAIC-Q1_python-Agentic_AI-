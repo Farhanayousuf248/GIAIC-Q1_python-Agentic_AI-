{
  "nbformat": 4,
  "nbformat_minor": 0,
  "metadata": {
    "colab": {
      "provenance": [],
      "authorship_tag": "ABX9TyOji9MHdnRh/ybihG7KKFuM",
      "include_colab_link": true
    },
    "kernelspec": {
      "name": "python3",
      "display_name": "Python 3"
    },
    "language_info": {
      "name": "python"
    }
  },
  "cells": [
    {
      "cell_type": "markdown",
      "metadata": {
        "id": "view-in-github",
        "colab_type": "text"
      },
      "source": [
        "<a href=\"https://colab.research.google.com/github/Farhanayousuf248/GIAIC-Q1_python-Agentic_AI-/blob/main/class07.ipynb\" target=\"_parent\"><img src=\"https://colab.research.google.com/assets/colab-badge.svg\" alt=\"Open In Colab\"/></a>"
      ]
    },
    {
      "cell_type": "markdown",
      "source": [
        "# DICTIONARY   method :\n",
        "\n",
        "\n",
        "\n",
        "\n"
      ],
      "metadata": {
        "id": "CJm5J-mtgsbK"
      }
    },
    {
      "cell_type": "code",
      "source": [
        "my_dict = {\n",
        "    \"Farhana yousuf\": 18,\n",
        "    \"Fiza\": 24,\n",
        "    \"farhah\":8\n",
        "}\n",
        "\n",
        "print(my_dict)"
      ],
      "metadata": {
        "colab": {
          "base_uri": "https://localhost:8080/"
        },
        "id": "SEhhftmygtQz",
        "outputId": "cd91cc3a-f6ce-4117-f56d-59d6f4c66e14"
      },
      "execution_count": null,
      "outputs": [
        {
          "output_type": "stream",
          "name": "stdout",
          "text": [
            "{'Farhana yousuf': 18, 'Fiza': 24, 'farhah': 8}\n"
          ]
        }
      ]
    },
    {
      "cell_type": "code",
      "source": [
        "my_list = [\"Apple\", \"Banana\", \"Orange\"]\n",
        "output = \", \".join(my_list)\n",
        "print(output)  # Output: apple, banana, orange"
      ],
      "metadata": {
        "colab": {
          "base_uri": "https://localhost:8080/"
        },
        "id": "c9vUoEuMg6o1",
        "outputId": "88e37ebb-ca31-430e-d4af-8ab828e0aaa6"
      },
      "execution_count": null,
      "outputs": [
        {
          "output_type": "stream",
          "name": "stdout",
          "text": [
            "Apple, Banana, Orange\n"
          ]
        }
      ]
    },
    {
      "cell_type": "code",
      "source": [
        "students = [\"Farhana\", \"Fiza\", \"Farha\"]\n",
        "\n",
        "student = {\n",
        "    \"Name\": \"Farhana\",\n",
        "    \"RollNo\": \"350912\",\n",
        "    \"Age\": 18,\n",
        "    \"Class\": \"Sunday 7-10\"\n",
        "}\n",
        "\n",
        "print(\"Before:\", student)\n",
        "\n",
        "student[\"RollNo\"] = 350912  # updating RollNo to integer\n",
        "print(\"After:\", student)\n"
      ],
      "metadata": {
        "colab": {
          "base_uri": "https://localhost:8080/"
        },
        "id": "7vmNr6YohAM8",
        "outputId": "ee04c9aa-2347-41d6-ad17-8b2610d117b8"
      },
      "execution_count": null,
      "outputs": [
        {
          "output_type": "stream",
          "name": "stdout",
          "text": [
            "Before: {'Name': 'Farhana', 'RollNo': '350912', 'Age': 18, 'Class': 'Sunday 7-10'}\n",
            "After: {'Name': 'Farhana', 'RollNo': 350912, 'Age': 18, 'Class': 'Sunday 7-10'}\n"
          ]
        }
      ]
    },
    {
      "cell_type": "code",
      "source": [
        "def charger():\n",
        "    print(\"Charge laptop\")\n",
        "\n",
        "charger()"
      ],
      "metadata": {
        "colab": {
          "base_uri": "https://localhost:8080/"
        },
        "id": "Yo_4Ig-ohF_q",
        "outputId": "b17a5404-03eb-40fc-c64d-edcb0b82f161"
      },
      "execution_count": null,
      "outputs": [
        {
          "output_type": "stream",
          "name": "stdout",
          "text": [
            "Charge laptop\n"
          ]
        }
      ]
    },
    {
      "cell_type": "code",
      "source": [
        "def ramo_kaka():\n",
        "\n",
        "     print(\"Hi!Ramo Kaka\")\n",
        "     print(\"Biryani Banao\")\n",
        "\n",
        "     return \"Biryani Bangayi\"\n",
        "\n",
        "\n",
        "\n",
        "\n",
        "plate = ramo_kaka()\n",
        "print(plate)\n",
        "print(\"Plate Main Serve Karo\")"
      ],
      "metadata": {
        "colab": {
          "base_uri": "https://localhost:8080/"
        },
        "id": "gw7KaCvohKez",
        "outputId": "311dca66-5911-42cc-afc3-4d8f8d9ca1f8"
      },
      "execution_count": null,
      "outputs": [
        {
          "output_type": "stream",
          "name": "stdout",
          "text": [
            "Hi!Ramo Kaka\n",
            "Biryani Banao\n",
            "Biryani Bangayi\n",
            "Plate Main Serve Karo\n"
          ]
        }
      ]
    },
    {
      "cell_type": "markdown",
      "source": [
        "# Static Functions :"
      ],
      "metadata": {
        "id": "QhBHZli3hUkD"
      }
    },
    {
      "cell_type": "code",
      "source": [
        "a = 3\n",
        "b = 2\n",
        "\n",
        "def add():\n",
        "    return a+b\n",
        "sum = add()\n",
        "print(sum)"
      ],
      "metadata": {
        "colab": {
          "base_uri": "https://localhost:8080/"
        },
        "id": "7GNCOasbhPDH",
        "outputId": "8a8b5959-d070-4856-e0bb-02d3014fe38c"
      },
      "execution_count": null,
      "outputs": [
        {
          "output_type": "stream",
          "name": "stdout",
          "text": [
            "5\n"
          ]
        }
      ]
    },
    {
      "cell_type": "markdown",
      "source": [
        "# Dynamic Function ##\n",
        "\n",
        "# Parameters\n",
        "\n",
        "# Arguments"
      ],
      "metadata": {
        "id": "Jf7txcNzkgeN"
      }
    },
    {
      "cell_type": "code",
      "source": [
        "def greet(name,age,RollNo):\n",
        "    print(\"Assalam o Alekum miss\",name,\"Your Age is \",age,\"roll no\",RollNo, )\n",
        "\n",
        "greet(\"Farhana yousuf\",18,350912)"
      ],
      "metadata": {
        "colab": {
          "base_uri": "https://localhost:8080/"
        },
        "id": "WXi6wazXheb9",
        "outputId": "b4955672-7605-4dad-e90c-7a47fe79b7cb"
      },
      "execution_count": null,
      "outputs": [
        {
          "output_type": "stream",
          "name": "stdout",
          "text": [
            "Assalam o Alekum miss Farhana yousuf Your Age is  18 roll no 350912\n"
          ]
        }
      ]
    },
    {
      "cell_type": "markdown",
      "source": [
        "## Version 1 Static Functions\n",
        "\n",
        "# Version 2 Dynamic Functions\n",
        "# Parameters\n",
        "# Arguments\n",
        "\n",
        "# Version 2 Dynamic Functions With Return"
      ],
      "metadata": {
        "id": "9cawd2Sqhsf8"
      }
    },
    {
      "cell_type": "code",
      "source": [
        "num1:int =10\n",
        "num2:int = 10\n",
        "def addition():\n",
        "    print(num1 + num2)\n",
        "    Addition()\n",
        "\n",
        "def addition(num1:int, num2: int):\n",
        "    print(num1+num2)\n",
        "\n",
        "addition(10,10)\n",
        "\n",
        "def addition(num1: int, num2: int):\n",
        "    return num1 + num2\n",
        "\n",
        "    print(addition(10,10))\n",
        "\n",
        "result  = 20\n",
        "result = addition(10,10)\n",
        "print(result)\n",
        "\n",
        "final_result = 20 + 20\n",
        "final_result = result / 20\n",
        "print(final_result)"
      ],
      "metadata": {
        "colab": {
          "base_uri": "https://localhost:8080/"
        },
        "id": "Ov_C19h3h51S",
        "outputId": "b9224a59-3acb-47a3-be79-0e481a28bb50"
      },
      "execution_count": null,
      "outputs": [
        {
          "output_type": "stream",
          "name": "stdout",
          "text": [
            "20\n",
            "20\n",
            "1.0\n"
          ]
        }
      ]
    }
  ]
}