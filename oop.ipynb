{
  "cells": [
    {
      "cell_type": "markdown",
      "metadata": {
        "id": "view-in-github",
        "colab_type": "text"
      },
      "source": [
        "<a href=\"https://colab.research.google.com/github/Farhanayousuf248/GIAIC-Q1_python-Agentic_AI-/blob/main/oop.ipynb\" target=\"_parent\"><img src=\"https://colab.research.google.com/assets/colab-badge.svg\" alt=\"Open In Colab\"/></a>"
      ]
    },
    {
      "cell_type": "markdown",
      "metadata": {
        "id": "AlG48qRoztpq"
      },
      "source": [
        "#   OOP (Object Oriented Programing)\n",
        "\n",
        "\n",
        "\n",
        "\n",
        "\n"
      ]
    },
    {
      "cell_type": "code",
      "execution_count": null,
      "metadata": {
        "colab": {
          "background_save": true
        },
        "id": "dLlvOMxsz_aP",
        "outputId": "f7bf155d-4700-4a6c-b2fc-bba7df1788f5"
      },
      "outputs": [
        {
          "name": "stdout",
          "output_type": "stream",
          "text": [
            "salam Farhana\n",
            "Welcom to saturday class\n"
          ]
        }
      ],
      "source": [
        "print(\"salam Farhana\")\n",
        "print(\"Welcom to saturday class\")\n",
        "\n",
        "student1_name:str=\"Farhana\"\n",
        "student1_age:int= 18\n",
        "\n",
        "student2_name:str=\"tehreem\"\n",
        "student1_age:int= 20\n",
        "\n",
        "student2_name:str=\"Efza\"\n",
        "student1_age:int= 19\n"
      ]
    },
    {
      "cell_type": "code",
      "execution_count": null,
      "metadata": {
        "id": "p7YEMfZM0EuP"
      },
      "outputs": [],
      "source": [
        "class person:\n",
        "#    name:str=\"Farhana\" #Attrebue\n",
        "#    age:int=18\n",
        "\n",
        "\n",
        "\n",
        "#__init__   -> Dunder fun\n",
        "\n",
        "    def __init__(self,user_name,user_age):  #Constructor\n",
        "        print(\"self>>>\",self)\n",
        "        self.name = user_name\n",
        "        self.age = user_age\n",
        "\n",
        "\n",
        "\n",
        "person1 = person (\"Farhana\", 18)\n",
        "print(\"person1.name>>>\",person1.name)\n",
        "print(\"person1.age>>>\",person1.age)\n",
        "\n",
        "\n",
        "person2 = person (\"Farhana\", 18)\n",
        "print(\"person2.name>>>\",person2.name)\n",
        "print(\"person2.age>>>\",person2.age)"
      ]
    },
    {
      "cell_type": "code",
      "execution_count": null,
      "metadata": {
        "id": "tjOqeZDi0O6n",
        "colab": {
          "base_uri": "https://localhost:8080/"
        },
        "outputId": "54b4a93d-08ca-4153-bc21-4e76987de096"
      },
      "outputs": [
        {
          "output_type": "stream",
          "name": "stdout",
          "text": [
            "self>>> <__main__.person object at 0x7bbe388cab90>\n",
            "2482006\n"
          ]
        }
      ],
      "source": [
        "#Inheretence  means ksse chez ko chopana\n",
        "class person:\n",
        "#    name:str=\"Farhana\" #Attrebue\n",
        "#    age:int=18\n",
        "\n",
        "\n",
        "#__init__   -> Dunder fun\n",
        "\n",
        "    def __init__(self,user_name,user_age,roll_no):  #Constructor\n",
        "        print(\"self>>>\",self)\n",
        "        self.name = user_name\n",
        "        self.age = user_age\n",
        "        self.__roll_no = roll_no # access modifiers (public,private,protected)\n",
        "\n",
        "    def get_roll_no(self): # getter function\n",
        "       return self.__roll_no\n",
        "\n",
        "\n",
        "person1= person(\"Farhana\", 18 , 2482006)\n",
        "#print(\"person1.name>>>\" ,person1.name)\n",
        "#print(\"person1.age>>>\" ,person1.age)\n",
        "#print(\"person1.__roll_no before>>>\",person1.__roll_no)\n",
        "#person1.__roll_no = 2482006\n",
        "#print(\"person1.__roll_no after>>>\",person1.__roll_no)\n",
        "print(person1.get_roll_no())"
      ]
    },
    {
      "cell_type": "markdown",
      "metadata": {
        "id": "iaYHlCrH0cIK"
      },
      "source": [
        " #   -> there  are 4 perlorece  of oops\n",
        "\n",
        "#1-Inheretence   hm ne aaj prhlya h\n",
        "#2-Polymourphism  ka link inheretence se h\n",
        "#3-Abstreaction\n",
        "#4-Encapsulation\n"
      ]
    },
    {
      "cell_type": "code",
      "execution_count": null,
      "metadata": {
        "id": "6WPFTD1D0wdj",
        "colab": {
          "base_uri": "https://localhost:8080/"
        },
        "outputId": "a17487e6-6c1b-42ae-95f0-dbe7e9bf4609"
      },
      "outputs": [
        {
          "output_type": "stream",
          "name": "stdout",
          "text": [
            "Farhana ko salary mil gai\n",
            "Amount: 100000\n"
          ]
        }
      ],
      "source": [
        "from dataclasses import dataclass\n",
        "\n",
        "@dataclass\n",
        "class Employee:\n",
        "    name: str\n",
        "    __Employee_id: int  # This is a private attribute\n",
        "\n",
        "    def salary_milgai(self):\n",
        "        print(f\"{self.name} ko salary mil gai\")\n",
        "        amount = self.__kitni_salary_milli(self.__Employee_id)\n",
        "        print(f\"Amount: {amount}\")\n",
        "\n",
        "    def __kitni_salary_milli(self, employee_id):\n",
        "        if employee_id == 1:\n",
        "            return 100000\n",
        "        elif employee_id == 2:\n",
        "            return 200000\n",
        "        else:\n",
        "            return \"salary nhi milli\"\n",
        "\n",
        "# Create an employee\n",
        "Farhana = Employee(\"Farhana\", 1)\n",
        "Farhana.salary_milgai()  # Don't need to pass name again"
      ]
    },
    {
      "cell_type": "code",
      "source": [
        "from dataclasses import dataclass\n",
        "\n",
        "@dataclass\n",
        "class person1:\n",
        "    name: str\n",
        "    city: str\n",
        "\n",
        "@dataclass\n",
        "class person2(person1):\n",
        "    country: str\n",
        "\n",
        "# Corrected spelling from 'persion2' to 'person2'\n",
        "Farhana = person2(\"Farhana\", \"Karachi\", \"Pakistan\")\n",
        "print(Farhana)"
      ],
      "metadata": {
        "colab": {
          "base_uri": "https://localhost:8080/"
        },
        "id": "ulCjie0_7OwY",
        "outputId": "8bb814fe-5c0a-47a2-c324-1791b0d1eddc"
      },
      "execution_count": null,
      "outputs": [
        {
          "output_type": "stream",
          "name": "stdout",
          "text": [
            "person2(name='Farhana', city='Karachi', country='Pakistan')\n"
          ]
        }
      ]
    },
    {
      "cell_type": "code",
      "source": [
        "#Abstreaction\n",
        "class person:\n",
        "    def __init__(self, user_name, user_age, roll_no):  # Constructor\n",
        "        self.name = user_name\n",
        "        self.age = user_age\n",
        "        self._roll_no = roll_no  # protected attribute\n",
        "        self.transportation = [\"car\", \"bike\", \"van\"]  # Corrected spelling\n",
        "\n",
        "    def commute(self, destanation):  # getter function\n",
        "        transportation_method = self.__transportation_ka_tareeka(destanation)\n",
        "        print(\"transportation_method>>>\", transportation_method)\n",
        "        print(f\"{self.name} ghr jati he {transportation_method} se\")  # Fixed f-string\n",
        "\n",
        "    def __transportation_ka_tareeka(self, destanation):  # private method\n",
        "        if destanation == \"home\":\n",
        "            return \"bike\"\n",
        "        elif destanation == \"gov house\":\n",
        "            return \"car\"\n",
        "        else:\n",
        "            return \"van\"\n",
        "\n",
        "    def get_roll_no(self):\n",
        "        return self._roll_no\n",
        "\n",
        "person1 = person(\"Farhana\", 18, 2482006)\n",
        "person1.commute(\"home\")"
      ],
      "metadata": {
        "colab": {
          "base_uri": "https://localhost:8080/"
        },
        "id": "eYT_ViHa7g43",
        "outputId": "9c506a10-7e37-439a-d86f-e40af7bda22a"
      },
      "execution_count": null,
      "outputs": [
        {
          "output_type": "stream",
          "name": "stdout",
          "text": [
            "transportation_method>>> bike\n",
            "Farhana ghr jati he bike se\n"
          ]
        }
      ]
    }
  ],
  "metadata": {
    "colab": {
      "provenance": [],
      "name": "oop.ipynb",
      "authorship_tag": "ABX9TyNxxaH8+B2OKtCTzVYuoVQ8",
      "include_colab_link": true
    },
    "kernelspec": {
      "display_name": "Python 3",
      "name": "python3"
    },
    "language_info": {
      "name": "python"
    }
  },
  "nbformat": 4,
  "nbformat_minor": 0
}