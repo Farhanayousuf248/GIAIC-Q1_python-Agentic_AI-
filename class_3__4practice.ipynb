{
  "cells": [
    {
      "cell_type": "markdown",
      "metadata": {
        "id": "view-in-github",
        "colab_type": "text"
      },
      "source": [
        "<a href=\"https://colab.research.google.com/github/Farhanayousuf248/GIAIC-Q1_python-Agentic_AI-/blob/main/class_3__4practice.ipynb\" target=\"_parent\"><img src=\"https://colab.research.google.com/assets/colab-badge.svg\" alt=\"Open In Colab\"/></a>"
      ]
    },
    {
      "cell_type": "code",
      "execution_count": null,
      "metadata": {
        "colab": {
          "base_uri": "https://localhost:8080/"
        },
        "id": "Hc3GTQr26NY2",
        "outputId": "06422a96-150a-418d-96a0-ae0976a5f616"
      },
      "outputs": [
        {
          "output_type": "stream",
          "name": "stdout",
          "text": [
            " hi Farhana \n"
          ]
        }
      ],
      "source": [
        "name=\" hi Farhana \"\n",
        "print (name)"
      ]
    },
    {
      "cell_type": "markdown",
      "metadata": {
        "id": "kZHQKmZx6Whq"
      },
      "source": [
        " 🚀**0perators**"
      ]
    },
    {
      "cell_type": "markdown",
      "metadata": {
        "id": "wMTcDPe_7q2j"
      },
      "source": [
        "🧑‍💻 There are 4 types of Operators...."
      ]
    },
    {
      "cell_type": "markdown",
      "metadata": {
        "id": "odibLukR70JM"
      },
      "source": [
        "🛸1: Arthimatic operators .\n",
        "\n",
        "🛸2: Assignment operators .\n",
        "\n",
        "🛸3: Comparison operators .\n",
        "\n",
        "🛸4: Logical Operators ."
      ]
    },
    {
      "cell_type": "markdown",
      "source": [
        "1️⃣ *Arthimatic operators* ..."
      ],
      "metadata": {
        "id": "dP_f3zRc0KeP"
      }
    },
    {
      "cell_type": "code",
      "execution_count": null,
      "metadata": {
        "id": "4Gl3lWHP9KSk"
      },
      "outputs": [],
      "source": [
        "## Use in +,-,*,/,etc"
      ]
    },
    {
      "cell_type": "code",
      "execution_count": null,
      "metadata": {
        "colab": {
          "base_uri": "https://localhost:8080/"
        },
        "id": "cEIOh1KG9Yxt",
        "outputId": "38b3f30b-a492-4670-fa36-f26b2d7f874b"
      },
      "outputs": [
        {
          "name": "stdout",
          "output_type": "stream",
          "text": [
            "12\n",
            "4\n",
            "20\n",
            "40\n"
          ]
        }
      ],
      "source": [
        "#7+5 =12\n",
        "print (7+5)\n",
        "print (10-6)\n",
        "print (10*2)\n",
        "print (5*8)"
      ]
    },
    {
      "cell_type": "markdown",
      "source": [
        "2️⃣ *Assignment operators* ...."
      ],
      "metadata": {
        "id": "wnoLnKtf0ZRP"
      }
    },
    {
      "cell_type": "code",
      "execution_count": null,
      "metadata": {
        "colab": {
          "base_uri": "https://localhost:8080/"
        },
        "id": "e3pG2hp495Sg",
        "outputId": "0d20f427-9a3e-4be9-f88b-9b4db8b8c873"
      },
      "outputs": [
        {
          "name": "stdout",
          "output_type": "stream",
          "text": [
            "0\n"
          ]
        }
      ],
      "source": [
        "# Assignment operators\n",
        "num1:int=5\n",
        "num2:int=5\n",
        "sum:int=num1-num2\n",
        "print (sum)"
      ]
    },
    {
      "cell_type": "code",
      "execution_count": null,
      "metadata": {
        "colab": {
          "base_uri": "https://localhost:8080/"
        },
        "id": "Jg6L8AJj-3LG",
        "outputId": "20aee27d-107d-43f7-b966-c75a80729b0c"
      },
      "outputs": [
        {
          "name": "stdout",
          "output_type": "stream",
          "text": [
            "10\n",
            "0\n",
            "25\n",
            "1.0\n"
          ]
        }
      ],
      "source": [
        "sum:int=num1+num2\n",
        "print (sum)\n",
        "\n",
        "sub:int=num1-num2\n",
        "print (sub)\n",
        "\n",
        "mul:int=num1*num2\n",
        "print (mul)\n",
        "\n",
        "div:int=num1/num2\n",
        "print (div)"
      ]
    },
    {
      "cell_type": "markdown",
      "metadata": {
        "id": "lzje1UFT_162"
      },
      "source": [
        " ✅Use in double ......"
      ]
    },
    {
      "cell_type": "code",
      "execution_count": null,
      "metadata": {
        "colab": {
          "base_uri": "https://localhost:8080/"
        },
        "id": "aiwD0i5Q_y5M",
        "outputId": "fd026bc7-bb3d-4e2e-dae6-5a94bd8a8eb0"
      },
      "outputs": [
        {
          "name": "stdout",
          "output_type": "stream",
          "text": [
            "1\n",
            "9\n",
            "10\n"
          ]
        }
      ],
      "source": [
        "print (5//5).\n",
        "print (3**2).\n",
        "print (8^2) ."
      ]
    },
    {
      "cell_type": "markdown",
      "metadata": {
        "id": "Tnyo2sefA_AI"
      },
      "source": [
        "💡Arthimatic operators and Assignment operators used with variables.."
      ]
    },
    {
      "cell_type": "code",
      "execution_count": null,
      "metadata": {
        "colab": {
          "base_uri": "https://localhost:8080/"
        },
        "id": "deP1IMtbA-NL",
        "outputId": "5df2da08-cba9-42ff-e80b-2aa3300df65e"
      },
      "outputs": [
        {
          "name": "stdout",
          "output_type": "stream",
          "text": [
            "10\n"
          ]
        },
        {
          "data": {
            "text/plain": [
              "15"
            ]
          },
          "execution_count": 9,
          "metadata": {},
          "output_type": "execute_result"
        }
      ],
      "source": [
        "x=5\n",
        "x:int=10\n",
        "print (x)\n",
        "10+5"
      ]
    },
    {
      "cell_type": "code",
      "execution_count": null,
      "metadata": {
        "colab": {
          "background_save": true
        },
        "id": "TQRHzgU_SIDb"
      },
      "outputs": [],
      "source": [
        "10 #'x'ke old value his me +5 krdu\n",
        "10+ 5"
      ]
    },
    {
      "cell_type": "code",
      "execution_count": null,
      "metadata": {
        "id": "ASkb45tiRccF",
        "colab": {
          "base_uri": "https://localhost:8080/"
        },
        "outputId": "e40c38b3-33c3-4a35-cb2f-489a2060b163"
      },
      "outputs": [
        {
          "output_type": "stream",
          "name": "stdout",
          "text": [
            "15\n"
          ]
        }
      ],
      "source": [
        "\n",
        "x=15\n",
        "x=x+5\n",
        "x=x-5\n",
        "print (x)\n",
        "x*2\n",
        "x=x/3 # \"ctr C\""
      ]
    },
    {
      "cell_type": "markdown",
      "source": [
        "3️⃣ * Comparison operators*...."
      ],
      "metadata": {
        "id": "eZyavoePjw5L"
      }
    },
    {
      "cell_type": "code",
      "source": [
        "# **Comparison Value**\n",
        "\n",
        "# 2 value ko campar krne wala\n",
        "\n",
        "# ==:{Equals to}#.  Value braber h number ke\n",
        "# >:{Greater than}#.value number se barri h\n",
        "# <:{Less than}#. Value number se chote h\n",
        "# >=:{Greater than or equals to }#.value number ke braber h ya barri h\n",
        "# <=:{Less than or equals to}#. Value number se chote h ya braber h\n",
        "# !:{No equals to}#.value number ke braber nhi h"
      ],
      "metadata": {
        "id": "b9_4jL3LjlMW"
      },
      "execution_count": null,
      "outputs": []
    },
    {
      "cell_type": "code",
      "source": [
        "## Comparison operators me Answer True.false me Aata h"
      ],
      "metadata": {
        "id": "YynnbxRzmmur"
      },
      "execution_count": null,
      "outputs": []
    },
    {
      "cell_type": "code",
      "source": [
        "num1:int=10\n",
        "num2:int=10\n",
        "print(num1+num2)"
      ],
      "metadata": {
        "colab": {
          "base_uri": "https://localhost:8080/"
        },
        "id": "VrbXcbdTmm7P",
        "outputId": "853d24bf-2592-4418-e9e9-4ec0c83a3441"
      },
      "execution_count": null,
      "outputs": [
        {
          "output_type": "stream",
          "name": "stdout",
          "text": [
            "20\n"
          ]
        }
      ]
    },
    {
      "cell_type": "code",
      "source": [
        "num1:int=10\n",
        "num2:int=20\n",
        "print(num1>num2)"
      ],
      "metadata": {
        "id": "GRFGv8acmoEX",
        "colab": {
          "base_uri": "https://localhost:8080/"
        },
        "outputId": "41fe4319-61af-47d4-9914-072120742eeb"
      },
      "execution_count": null,
      "outputs": [
        {
          "output_type": "stream",
          "name": "stdout",
          "text": [
            "False\n"
          ]
        }
      ]
    },
    {
      "cell_type": "code",
      "source": [
        "num1:int=10\n",
        "num2:int=20\n",
        "print(num1<num2)"
      ],
      "metadata": {
        "colab": {
          "base_uri": "https://localhost:8080/"
        },
        "id": "jz7wRtjss272",
        "outputId": "d94aa05e-c1a4-469b-bac2-d3ae0b1c9a8a"
      },
      "execution_count": null,
      "outputs": [
        {
          "output_type": "stream",
          "name": "stdout",
          "text": [
            "True\n"
          ]
        }
      ]
    },
    {
      "cell_type": "code",
      "source": [
        "num2=20\n",
        "num1=10\n",
        "print (num1-num2)\n",
        "print ( num1<num2)\n",
        "print (num1>num2)\n",
        "print (num1<=num2)\n",
        "print (num1>=num2)\n",
        "print (num1==num2)"
      ],
      "metadata": {
        "colab": {
          "base_uri": "https://localhost:8080/"
        },
        "id": "tQNb3Ce4tI6P",
        "outputId": "fecaadb0-47b6-428b-f51c-029f15874173"
      },
      "execution_count": null,
      "outputs": [
        {
          "output_type": "stream",
          "name": "stdout",
          "text": [
            "-10\n",
            "True\n",
            "False\n",
            "True\n",
            "False\n",
            "False\n"
          ]
        }
      ]
    },
    {
      "cell_type": "markdown",
      "source": [
        "4️⃣ *Logical Operators*...."
      ],
      "metadata": {
        "id": "hxRzekkluMip"
      }
    },
    {
      "cell_type": "code",
      "source": [
        "#There are 3 types of logical operators\n",
        "## And\n",
        "## Or\n",
        "## No\n",
        "\n",
        "#And hamey kahta h ke hr value true honi chaeye.\n",
        "# agr ik bhi false ho gi to ye apply nhi hoga error Dega"
      ],
      "metadata": {
        "id": "NTRAkmUNuclg"
      },
      "execution_count": null,
      "outputs": []
    },
    {
      "cell_type": "markdown",
      "source": [
        " # And"
      ],
      "metadata": {
        "id": "TUqHCIM1t2ZB"
      }
    },
    {
      "cell_type": "code",
      "source": [
        " # and condition\n",
        "num1:int=20\n",
        "num1:int=10\n",
        "#num1is greator than 10\n",
        "#and\n",
        "#num1is less than =30\n",
        "# me kha rhi ho ke num1 me zyada se zyada 10 oe km se km 30 ho to\n",
        "print (num1>10 and num1<30)"
      ],
      "metadata": {
        "colab": {
          "base_uri": "https://localhost:8080/"
        },
        "id": "723FjDPxvT9d",
        "outputId": "578b5f2e-618b-4d0e-92f7-076fe273b12c"
      },
      "execution_count": null,
      "outputs": [
        {
          "output_type": "stream",
          "name": "stdout",
          "text": [
            "False\n"
          ]
        }
      ]
    },
    {
      "cell_type": "code",
      "source": [
        "num1 = 20\n",
        "num1>10==True\n",
        "num1<230==False\n",
        "#true or false\n",
        "print (num1>10)\n",
        "print (num1<20)\n",
        "print (num1>30)"
      ],
      "metadata": {
        "id": "zNCyIcXExUdO",
        "colab": {
          "base_uri": "https://localhost:8080/"
        },
        "outputId": "b47050b8-f22d-4eea-eedc-d3e291047134"
      },
      "execution_count": null,
      "outputs": [
        {
          "output_type": "stream",
          "name": "stdout",
          "text": [
            "True\n",
            "False\n",
            "False\n"
          ]
        }
      ]
    },
    {
      "cell_type": "markdown",
      "source": [
        "# OR"
      ],
      "metadata": {
        "id": "meQaRrsqtnp2"
      }
    },
    {
      "cell_type": "code",
      "source": [
        "# OR condition\n",
        "# is me koi bhi 1 true hoga to ye hme answer true dedega\n",
        "num1:int=40\n",
        "# 👇is me hm and use krrhe h\n",
        "print (num1>10 and num1<40)\n",
        "#is ka answer false aaega\n",
        "# and last me 2nd condition true honi chaeye\n",
        "# jb ke Or me koi bhi 1 true ho to answer true aata h\n",
        "print (num1>10 or num1<40)\n",
        "print (num1<10 or num1<40)\n",
        "# is me koi 1 true ho to answer true aaega"
      ],
      "metadata": {
        "colab": {
          "base_uri": "https://localhost:8080/"
        },
        "id": "DqbKg0Mbt79X",
        "outputId": "b703d23f-1483-4491-fc04-9651d627e2c7"
      },
      "execution_count": null,
      "outputs": [
        {
          "output_type": "stream",
          "name": "stdout",
          "text": [
            "False\n",
            "True\n",
            "False\n"
          ]
        }
      ]
    },
    {
      "cell_type": "markdown",
      "source": [
        "# * Class 4 Assignment *"
      ],
      "metadata": {
        "id": "IMirI8cTvNit"
      }
    },
    {
      "cell_type": "markdown",
      "source": [
        "**K-Electric and UPS **"
      ],
      "metadata": {
        "id": "6swhoBgxwhM-"
      }
    },
    {
      "cell_type": "code",
      "source": [
        "# is me hmare K-Electric or ups ka variable bna na h or un ko logical operators ke sath print krwana h\n",
        "# Greater than>or less than < hamesha variable ke == kr ke use hote h\n",
        "k_Electric=\"k_Electric\"\n",
        "ups=\" no ups\"\n",
        "k_Electric=True # light aarhi h\n",
        "ups = False # ups off h\n",
        "print (k_Electric == ups)"
      ],
      "metadata": {
        "colab": {
          "base_uri": "https://localhost:8080/"
        },
        "id": "Jc-1xpk8vH48",
        "outputId": "04e5126e-6f06-4df4-8870-1bff668ed8ba"
      },
      "execution_count": null,
      "outputs": [
        {
          "output_type": "stream",
          "name": "stdout",
          "text": [
            "False\n"
          ]
        }
      ]
    }
  ],
  "metadata": {
    "colab": {
      "provenance": [],
      "include_colab_link": true
    },
    "kernelspec": {
      "display_name": "Python 3",
      "name": "python3"
    },
    "language_info": {
      "name": "python"
    }
  },
  "nbformat": 4,
  "nbformat_minor": 0
}