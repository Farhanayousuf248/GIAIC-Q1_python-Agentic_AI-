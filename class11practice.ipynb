{
  "cells": [
    {
      "cell_type": "markdown",
      "metadata": {
        "id": "view-in-github",
        "colab_type": "text"
      },
      "source": [
        "<a href=\"https://colab.research.google.com/github/Farhanayousuf248/GIAIC-Q1_python-Agentic_AI-/blob/main/class11practice.ipynb\" target=\"_parent\"><img src=\"https://colab.research.google.com/assets/colab-badge.svg\" alt=\"Open In Colab\"/></a>"
      ]
    },
    {
      "cell_type": "markdown",
      "source": [
        "#**Short Hand If Else / \"Ternary operators\"**💫"
      ],
      "metadata": {
        "id": "une6qnfCQsoL"
      }
    },
    {
      "cell_type": "code",
      "source": [
        "num:int=9\n",
        "if num >10:\n",
        "  print (\"number is greater than 10\")\n",
        "else:\n",
        "  print (\"number is less than 10\")"
      ],
      "metadata": {
        "colab": {
          "base_uri": "https://localhost:8080/"
        },
        "id": "CYBrS6EcRJZ6",
        "outputId": "731deace-671d-48cd-d48d-c0766b8787b0"
      },
      "execution_count": null,
      "outputs": [
        {
          "output_type": "stream",
          "name": "stdout",
          "text": [
            "number is less than 10\n"
          ]
        }
      ]
    },
    {
      "cell_type": "code",
      "execution_count": null,
      "metadata": {
        "colab": {
          "base_uri": "https://localhost:8080/"
        },
        "id": "PLIuoMWyMSKZ",
        "outputId": "6cac52b0-7619-4955-883b-6d1b9e2c22be"
      },
      "outputs": [
        {
          "output_type": "stream",
          "name": "stdout",
          "text": [
            ">>> 10\n"
          ]
        }
      ],
      "source": [
        "num = 5\n",
        "\n",
        "num1 = 10 if num < 10 else 5.\n",
        "\n",
        "print(\">>>\",num1)"
      ]
    },
    {
      "cell_type": "markdown",
      "metadata": {
        "id": "v5n7YSuxOknM"
      },
      "source": [
        "#*Enumerated 💻..."
      ]
    },
    {
      "cell_type": "code",
      "execution_count": null,
      "metadata": {
        "colab": {
          "base_uri": "https://localhost:8080/"
        },
        "id": "-jKRmRknO1eF",
        "outputId": "f66258b6-5f06-4509-c3a2-98e2a4fa1649"
      },
      "outputs": [
        {
          "name": "stdout",
          "output_type": "stream",
          "text": [
            "tehreem\n",
            "['farhana', 'tehreem', 'governor house', 'AI']\n"
          ]
        }
      ],
      "source": [
        "names=[\"farhana\",\"tehreem\", \"governor-house\",\"AI\"]\n",
        "\n",
        "##Mojhy is ko blna han  ke is me Jo tahreem h us ke ley door open krdena\n",
        "\n",
        "print(names[1])\n",
        "\n",
        "#ap me is pr condition lgana Chah rhi ho K\n",
        "## agr is ke 1 number pr tehreem h to us ko Salam kro or flowers bhi gift krdo .\n",
        "\n",
        "for name in names:\n",
        "   if name[1] == \"tehreem\":\n",
        "     print(\"Salam tehreem welcome to my house\")\n",
        "print(names)"
      ]
    },
    {
      "cell_type": "code",
      "source": [
        "names = [\"tehreem\",\"Farhana\", \"govern\"]\n",
        "\n",
        "# #1:Correct variable name & fix syntax\n",
        "\n",
        "# Correctly implemented loop with index\n",
        "\n",
        "for index, name in enumerate(names):\n",
        "    print(f\"name[{index}]: {name}\")\n",
        "\n",
        " ##3: Proper f-string formatting"
      ],
      "metadata": {
        "colab": {
          "base_uri": "https://localhost:8080/"
        },
        "id": "vApmYLLoEoy5",
        "outputId": "63cb5a90-2f34-45d4-8d04-af5f629bab3a"
      },
      "execution_count": null,
      "outputs": [
        {
          "output_type": "stream",
          "name": "stdout",
          "text": [
            "name[0]: tehreem\n",
            "name[1]: Farhana\n",
            "name[2]: govern\n"
          ]
        }
      ]
    },
    {
      "cell_type": "markdown",
      "metadata": {
        "id": "8WORM8uiZzim"
      },
      "source": [
        "#*Map,filter Reduce Function"
      ]
    },
    {
      "cell_type": "code",
      "execution_count": null,
      "metadata": {
        "colab": {
          "base_uri": "https://localhost:8080/"
        },
        "id": "tBMYnWNoaHT0",
        "outputId": "ae7cb214-5f90-4b29-9de3-ca95856a2968"
      },
      "outputs": [
        {
          "name": "stdout",
          "output_type": "stream",
          "text": [
            "num>>> 1\n",
            "calling square function\n",
            "num_sqr>>> 1\n",
            "num>>> 2\n",
            "calling square function\n",
            "num_sqr>>> 4\n",
            "num>>> 3\n",
            "calling square function\n",
            "num_sqr>>> 9\n",
            "num>>> 4\n",
            "calling square function\n",
            "num_sqr>>> 16\n",
            "num>>> 5\n",
            "calling square function\n",
            "num_sqr>>> 25\n"
          ]
        }
      ],
      "source": [
        "numbers=[1,2,3,4,5]\n",
        "\n",
        "def square(num:int):\n",
        "  return num*num\n",
        "#ab me chah rha ho ke ye function jae or list ke  he element ko print krwae\n",
        "new_list =[]\n",
        "for num in numbers:\n",
        "  numbers=[1,2,3,4,5]\n",
        "\n",
        "def square(num:int):\n",
        "  return num*num\n",
        "#ab me chah rha ho ke ye function jae or list ke  he element ko print krwae\n",
        "new_list =[]\n",
        "for num in numbers:\n",
        "  print (\"num>>>\",num)\n",
        "  print (\"calling square function\")\n",
        "  num_sqr=square(num)\n",
        "  print(\"num_sqr>>>\", num_sqr)"
      ]
    },
    {
      "cell_type": "markdown",
      "metadata": {
        "id": "KeSbLN0Dc-t4"
      },
      "source": [
        "#**Ye Aam Zindagi thi. Or ab hm...**🌟"
      ]
    },
    {
      "cell_type": "markdown",
      "metadata": {
        "id": "dQ_nO6p1dmPo"
      },
      "source": [
        "#**Mintor Zindagi ke ley \"Map\" k0 usekre ge💥**"
      ]
    },
    {
      "cell_type": "code",
      "execution_count": null,
      "metadata": {
        "colab": {
          "base_uri": "https://localhost:8080/"
        },
        "id": "8MnhoO5UeAPV",
        "outputId": "1a390d54-95e1-4cb4-a8ef-8854b53151a1"
      },
      "outputs": [
        {
          "output_type": "stream",
          "name": "stdout",
          "text": [
            "new_list [1, 4, 9, 16, 25]\n"
          ]
        }
      ],
      "source": [
        "\n",
        "\n",
        "## Map\n",
        "numbers = [1,2,3,4,5]\n",
        "\n",
        "def square(num:int):\n",
        "     return num *num\n",
        "new_list=list(map(square,numbers))\n",
        "print(\"new_list\",new_list)"
      ]
    }
  ],
  "metadata": {
    "colab": {
      "provenance": [],
      "include_colab_link": true
    },
    "kernelspec": {
      "display_name": "Python 3",
      "name": "python3"
    },
    "language_info": {
      "name": "python"
    }
  },
  "nbformat": 4,
  "nbformat_minor": 0
}